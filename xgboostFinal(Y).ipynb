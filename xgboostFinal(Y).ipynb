{
 "cells": [
  {
   "cell_type": "code",
   "execution_count": 1,
   "id": "a370d2ae",
   "metadata": {},
   "outputs": [
    {
     "name": "stdout",
     "output_type": "stream",
     "text": [
      "1                         int64\n",
      "2                         int64\n",
      "3                         int64\n",
      "4                         int64\n",
      "5                         int64\n",
      "                         ...   \n",
      "0_Wavelet variance_5    float64\n",
      "0_Wavelet variance_6    float64\n",
      "0_Wavelet variance_7    float64\n",
      "0_Wavelet variance_8    float64\n",
      "0_Zero crossing rate    float64\n",
      "Length: 1829, dtype: object\n",
      "Best Parameters:\n",
      "{'test_size': 0.1, 'random_state': 2022, 'learning_rate': 0.1, 'max_depth': 2, 'n_estimators': 200}\n",
      "Best Test Accuracy: 0.8029197080291971\n"
     ]
    }
   ],
   "source": [
    "import numpy as np\n",
    "from sklearn.model_selection import train_test_split\n",
    "from sklearn.metrics import accuracy_score\n",
    "import xgboost as xgb\n",
    "import pandas as pd\n",
    "\n",
    "# Load your dataset\n",
    "df = pd.read_csv(\"M:/Grad/Final.csv\")\n",
    "df = df.drop(\"Unnamed: 0\", axis=1)\n",
    "\n",
    "# Shuffling\n",
    "df = df.sample(frac=1, random_state=42)\n",
    "# Display the columns and their data types\n",
    "print(df.dtypes)\n",
    "df.isna().sum()\n",
    "\n",
    "# Calculate the mean for '0_Kurtosis' and '0_Skewness' columns\n",
    "mean_kurtosis = df['0_Kurtosis'].mean()\n",
    "mean_skewness = df['0_Skewness'].mean()\n",
    "\n",
    "# Fill null values in '0_Kurtosis' and '0_Skewness' columns with their respective means\n",
    "df['0_Kurtosis'].fillna(mean_kurtosis, inplace=True)\n",
    "df['0_Skewness'].fillna(mean_skewness, inplace=True)\n",
    "\n",
    "# Assuming the target variable is in the 'Class' column\n",
    "X = df.drop('Class',axis=1)\n",
    "y = df['Class']\n",
    "# Replace 'your_dataset.csv' with the actual path or URL of your dataset\n",
    "# Assuming dataset is already loaded as X and y\n",
    "\n",
    "# Define the parameter grids\n",
    "test_size_values = [0.2, 0.3,0.1]  # Test size values to try\n",
    "random_state_values = [42, 100,2022]  # Random state values to try\n",
    "learning_rate_values = [0.01, 0.1,0.001]  # Learning rate values to try\n",
    "max_depth_values = [2,3, 5]  # Max depth values to try\n",
    "n_estimators_values = [50,100, 200]  # Number of estimators values to try\n",
    "\n",
    "best_accuracy = 0  # Initialize best accuracy\n",
    "\n",
    "# Iterate over all parameter combinations\n",
    "for test_size in test_size_values:\n",
    "    for random_state in random_state_values:\n",
    "        for learning_rate in learning_rate_values:\n",
    "            for max_depth in max_depth_values:\n",
    "                for n_estimators in n_estimators_values:\n",
    "                    # Split the data into training and testing sets\n",
    "                    X_train, X_test, y_train, y_test = train_test_split(X, y, test_size=test_size, random_state=random_state)\n",
    "\n",
    "                    # Initialize and train the XGBoost model\n",
    "                    model = xgb.XGBClassifier(\n",
    "                        objective='multi:softmax',  \n",
    "                        learning_rate=learning_rate,\n",
    "                        max_depth=max_depth,\n",
    "                        n_estimators=n_estimators,\n",
    "                        eval_metric='mlogloss'\n",
    "                    )\n",
    "                    model.fit(X_train, y_train)\n",
    "\n",
    "                    # Make predictions on the test set\n",
    "                    y_pred = model.predict(X_test)\n",
    "\n",
    "                    # Evaluate the model\n",
    "                    accuracy_test = accuracy_score(y_test, y_pred)\n",
    "\n",
    "                    # Check if current accuracy is better than the best accuracy\n",
    "                    if accuracy_test > best_accuracy:\n",
    "                        best_accuracy = accuracy_test\n",
    "                        best_parameters = {\n",
    "                            'test_size': test_size,\n",
    "                            'random_state': random_state,\n",
    "                            'learning_rate': learning_rate,\n",
    "                            'max_depth': max_depth,\n",
    "                            'n_estimators': n_estimators\n",
    "                        }\n",
    "\n",
    "# Print the best parameters and the corresponding best accuracy\n",
    "print(\"Best Parameters:\")\n",
    "print(best_parameters)\n",
    "print(\"Best Test Accuracy:\", best_accuracy)\n"
   ]
  },
  {
   "cell_type": "code",
   "execution_count": 2,
   "id": "41a3131e",
   "metadata": {},
   "outputs": [
    {
     "name": "stdout",
     "output_type": "stream",
     "text": [
      "Training Accuracy: 0.85\n"
     ]
    }
   ],
   "source": [
    "accuracy_train = accuracy_score(y_train, model.predict(X_train))\n",
    "print(f'Training Accuracy: {accuracy_train:.2f}')"
   ]
  },
  {
   "cell_type": "code",
   "execution_count": null,
   "id": "cc756e0f",
   "metadata": {},
   "outputs": [],
   "source": []
  },
  {
   "cell_type": "code",
   "execution_count": null,
   "id": "ee5ff6ba",
   "metadata": {},
   "outputs": [],
   "source": []
  },
  {
   "cell_type": "code",
   "execution_count": null,
   "id": "68e9b6d7",
   "metadata": {},
   "outputs": [],
   "source": []
  },
  {
   "cell_type": "code",
   "execution_count": null,
   "id": "c31ec153",
   "metadata": {},
   "outputs": [],
   "source": []
  },
  {
   "cell_type": "code",
   "execution_count": null,
   "id": "fc8c6581",
   "metadata": {},
   "outputs": [],
   "source": []
  },
  {
   "cell_type": "code",
   "execution_count": null,
   "id": "2eb8758f",
   "metadata": {},
   "outputs": [],
   "source": []
  },
  {
   "cell_type": "code",
   "execution_count": null,
   "id": "cad08f11",
   "metadata": {},
   "outputs": [],
   "source": []
  },
  {
   "cell_type": "code",
   "execution_count": null,
   "id": "f33ade06",
   "metadata": {},
   "outputs": [],
   "source": []
  },
  {
   "cell_type": "code",
   "execution_count": null,
   "id": "71b139a6",
   "metadata": {},
   "outputs": [],
   "source": []
  },
  {
   "cell_type": "code",
   "execution_count": null,
   "id": "4cc4d130",
   "metadata": {},
   "outputs": [],
   "source": []
  },
  {
   "cell_type": "code",
   "execution_count": null,
   "id": "4f79a170",
   "metadata": {},
   "outputs": [],
   "source": []
  },
  {
   "cell_type": "code",
   "execution_count": null,
   "id": "537fc218",
   "metadata": {},
   "outputs": [],
   "source": []
  },
  {
   "cell_type": "code",
   "execution_count": null,
   "id": "79f67507",
   "metadata": {},
   "outputs": [],
   "source": []
  },
  {
   "cell_type": "code",
   "execution_count": null,
   "id": "3e98d05b",
   "metadata": {},
   "outputs": [],
   "source": []
  }
 ],
 "metadata": {
  "kernelspec": {
   "display_name": "Python 3 (ipykernel)",
   "language": "python",
   "name": "python3"
  },
  "language_info": {
   "codemirror_mode": {
    "name": "ipython",
    "version": 3
   },
   "file_extension": ".py",
   "mimetype": "text/x-python",
   "name": "python",
   "nbconvert_exporter": "python",
   "pygments_lexer": "ipython3",
   "version": "3.10.9"
  }
 },
 "nbformat": 4,
 "nbformat_minor": 5
}
